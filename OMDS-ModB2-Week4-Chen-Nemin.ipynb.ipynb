{
 "cells": [
  {
   "cell_type": "markdown",
   "id": "4441d563-75a4-4c32-b1e7-2c229477ca1c",
   "metadata": {},
   "source": [
    "# Week 4 - Univariate Analysis, part 2"
   ]
  },
  {
   "cell_type": "markdown",
   "id": "98e23199-b611-403a-b843-2369d14d29bd",
   "metadata": {
    "jp-MarkdownHeadingCollapsed": true
   },
   "source": [
    "# 1. Lesson - None"
   ]
  },
  {
   "cell_type": "markdown",
   "id": "35a7a0ae-f55f-455f-a951-478605b5e192",
   "metadata": {},
   "source": [
    "# 2. Weekly graph question"
   ]
  },
  {
   "cell_type": "markdown",
   "id": "6807d39d-413e-4ce2-9281-3dd73eda198f",
   "metadata": {},
   "source": [
    "Below are a histogram and boxplot representation of the same data. A pharmacy is keeping a record of the prices of the drugs that it sells, and an administrator wants to know how much the more expensive drugs tend to cost, in the context of the other prices.\n",
    "\n",
    "Please write a short explanation of the pros and cons of these two representations. Which would you choose? How would you modify the formatting, if at all, to make it more visually interesting, clear, or informative?"
   ]
  },
  {
   "cell_type": "code",
   "execution_count": 1,
   "id": "1888593e-817d-4148-954d-5d156593bd8d",
   "metadata": {},
   "outputs": [],
   "source": [
    "import numpy as np\n",
    "import pandas as pd\n",
    "\n",
    "np.random.seed(0)\n",
    "num_data = 100\n",
    "data = np.exp(np.random.uniform(size = num_data) * 4)\n",
    "df = pd.DataFrame(data.T, columns = [\"data\"])"
   ]
  },
  {
   "cell_type": "code",
   "execution_count": 3,
   "id": "13745ab1-8a9b-4568-bf56-3245fa36a358",
   "metadata": {},
   "outputs": [
    {
     "name": "stdout",
     "output_type": "stream",
     "text": [
      "The 75th percentile is: data    15.457656\n",
      "Name: 0.75, dtype: float64\n"
     ]
    },
    {
     "data": {
      "text/plain": [
       "<Axes: ylabel='Frequency'>"
      ]
     },
     "execution_count": 3,
     "metadata": {},
     "output_type": "execute_result"
    },
    {
     "data": {
      "image/png": "[encoded data removed]",
      "text/plain": [
       "<Figure size 640x480 with 1 Axes>"
      ]
     },
     "metadata": {},
     "output_type": "display_data"
    }
   ],
   "source": [
    "print(\"The 75th percentile is:\", df.quantile(q = 0.75))\n",
    "df.plot.hist()"
   ]
  },
  {
   "cell_type": "code",
   "execution_count": 4,
   "id": "d4dbce72-bd33-43a2-b3e7-354a1cca6e39",
   "metadata": {},
   "outputs": [
    {
     "data": {
      "text/plain": [
       "<Axes: >"
      ]
     },
     "execution_count": 4,
     "metadata": {},
     "output_type": "execute_result"
    },
    {
     "data": {
      "image/png": "[encoded data removed]",
      "text/plain": [
       "<Figure size 640x480 with 1 Axes>"
      ]
     },
     "metadata": {},
     "output_type": "display_data"
    }
   ],
   "source": [
    "df.plot.box()"
   ]
  },
  {
   "cell_type": "code",
   "execution_count": null,
   "id": "3b753dab",
   "metadata": {},
   "outputs": [],
   "source": [
    "#I will select the histogram. Pros are 1) it shows the overall shape of the distribution (e.g., normal, skewed, bimodal); 2) it highlights frequency of different price ranges;\n",
    "#Cons are it does not explicitly show outliers or key summary statistics.\n",
    "#The box plot, on the other hand, provides a summary of key statistics (median, quartiles, minimum, maximum), and identifies outliers, which is useful for detecting expensive drugs.\n",
    "#However, it lacks the information about frequency of prices within different ranges.\n"
   ]
  },
  {
   "cell_type": "markdown",
   "id": "ab830464-2f92-4281-a2d3-474ffd26d1c7",
   "metadata": {},
   "source": [
    "# 3. Homework - working on your datasets"
   ]
  },
  {
   "cell_type": "markdown",
   "id": "e892ba10-7f81-4330-9863-73f65fbdc4bd",
   "metadata": {},
   "source": [
    "This week, you will do the same types of exercises as last week, but you should use your chosen datasets that someone in your class found last semester. (They likely will not be the particular datasets that you found yourself.)\n",
    "\n",
    "### Here are some types of analysis you can do:\n",
    "\n",
    "- Draw histograms and histogram variants for each feature or column.  (Swarm plot, kde plot, violin plot).\n",
    "\n",
    "- Draw grouped histograms.  For instance, if you have tree heights for both maple and oak trees, you could draw histograms for both.\n",
    "\n",
    "- Draw a bar plot to indicate total counts of each categorical variable in a given column.\n",
    "\n",
    "- Find means, medians, and modes.\n",
    "\n",
    "### Conclusions:\n",
    "\n",
    "- Explain what conclusions you would draw from this analysis: are the data what you expect?  Are the data likely to be usable?  If they are not useable, find some new data!\n",
    "\n",
    "- What is the overall shape of the distribution?  Is it normal, skewed, bimodal, uniform, etc.?\n",
    "\n",
    "- Are there any outliers present?  (Data points that are far from the others.)\n",
    "\n",
    "- If there are multiple related histograms, how does the distribution change across different groups?\n",
    "\n",
    "- What are the minimum and maximum values represented in each histogram?\n",
    "\n",
    "- How do bin sizes affect the histogram?  Does changing the bin width reveal different patterns in the data?\n",
    "\n",
    "- Does the distribution appear normal, or does it have a different distribution?"
   ]
  },
  {
   "cell_type": "code",
   "execution_count": null,
   "id": "8923cc9a",
   "metadata": {},
   "outputs": [],
   "source": [
    "pip install pandas openpyxl"
   ]
  },
  {
   "cell_type": "code",
   "execution_count": 2,
   "id": "2853f0eb",
   "metadata": {},
   "outputs": [],
   "source": [
    "data = pd.read_excel('h244.xlsx', sheet_name= 'H244')"
   ]
  },
  {
   "cell_type": "code",
   "execution_count": 24,
   "id": "500a480e",
   "metadata": {},
   "outputs": [
    {
     "data": {
      "text/html": [
       "<div>\n",
       "<style scoped>\n",
       "    .dataframe tbody tr th:only-of-type {\n",
       "        vertical-align: middle;\n",
       "    }\n",
       "\n",
       "    .dataframe tbody tr th {\n",
       "        vertical-align: top;\n",
       "    }\n",
       "\n",
       "    .dataframe thead th {\n",
       "        text-align: right;\n",
       "    }\n",
       "</style>\n",
       "<table border=\"1\" class=\"dataframe\">\n",
       "  <thead>\n",
       "    <tr style=\"text-align: right;\">\n",
       "      <th></th>\n",
       "      <th>DUID</th>\n",
       "      <th>PID</th>\n",
       "      <th>DUPERSID</th>\n",
       "      <th>PANEL</th>\n",
       "      <th>YEARIND</th>\n",
       "      <th>SAQRDS24</th>\n",
       "      <th>DATAYEARY2</th>\n",
       "      <th>ALL5RDS</th>\n",
       "      <th>DIED</th>\n",
       "      <th>INST</th>\n",
       "      <th>...</th>\n",
       "      <th>RXOSRY1</th>\n",
       "      <th>RXOSRY2</th>\n",
       "      <th>RXPTRY1</th>\n",
       "      <th>RXPTRY2</th>\n",
       "      <th>RXOTHY1</th>\n",
       "      <th>RXOTHY2</th>\n",
       "      <th>VARPSU</th>\n",
       "      <th>VARSTR</th>\n",
       "      <th>LONGWT</th>\n",
       "      <th>LSAQWT</th>\n",
       "    </tr>\n",
       "  </thead>\n",
       "  <tbody>\n",
       "    <tr>\n",
       "      <th>count</th>\n",
       "      <td>6.741000e+03</td>\n",
       "      <td>6741.000000</td>\n",
       "      <td>6.741000e+03</td>\n",
       "      <td>6741.0</td>\n",
       "      <td>6741.000000</td>\n",
       "      <td>6741.000000</td>\n",
       "      <td>6741.000000</td>\n",
       "      <td>6741.000000</td>\n",
       "      <td>6741.000000</td>\n",
       "      <td>6741.000000</td>\n",
       "      <td>...</td>\n",
       "      <td>6741.000000</td>\n",
       "      <td>6741.000000</td>\n",
       "      <td>6741.000000</td>\n",
       "      <td>6741.000000</td>\n",
       "      <td>6741.000000</td>\n",
       "      <td>6741.000000</td>\n",
       "      <td>6741.000000</td>\n",
       "      <td>6741.000000</td>\n",
       "      <td>6741.000000</td>\n",
       "      <td>6741.000000</td>\n",
       "    </tr>\n",
       "    <tr>\n",
       "      <th>mean</th>\n",
       "      <td>2.684728e+06</td>\n",
       "      <td>102.202641</td>\n",
       "      <td>2.684728e+09</td>\n",
       "      <td>26.0</td>\n",
       "      <td>1.031894</td>\n",
       "      <td>0.475597</td>\n",
       "      <td>1989.288681</td>\n",
       "      <td>0.933838</td>\n",
       "      <td>0.022994</td>\n",
       "      <td>0.003115</td>\n",
       "      <td>...</td>\n",
       "      <td>0.005785</td>\n",
       "      <td>-0.008901</td>\n",
       "      <td>621.863967</td>\n",
       "      <td>681.911141</td>\n",
       "      <td>28.282451</td>\n",
       "      <td>28.422341</td>\n",
       "      <td>2.366118</td>\n",
       "      <td>2055.126984</td>\n",
       "      <td>49996.038645</td>\n",
       "      <td>38241.105807</td>\n",
       "    </tr>\n",
       "    <tr>\n",
       "      <th>std</th>\n",
       "      <td>2.747554e+03</td>\n",
       "      <td>4.733321</td>\n",
       "      <td>2.747554e+06</td>\n",
       "      <td>0.0</td>\n",
       "      <td>0.215891</td>\n",
       "      <td>0.499441</td>\n",
       "      <td>255.175679</td>\n",
       "      <td>0.248584</td>\n",
       "      <td>0.149894</td>\n",
       "      <td>0.055732</td>\n",
       "      <td>...</td>\n",
       "      <td>1.053803</td>\n",
       "      <td>0.462137</td>\n",
       "      <td>9181.818331</td>\n",
       "      <td>9068.790446</td>\n",
       "      <td>1214.393300</td>\n",
       "      <td>609.037490</td>\n",
       "      <td>1.343543</td>\n",
       "      <td>33.910594</td>\n",
       "      <td>40390.008691</td>\n",
       "      <td>59407.014502</td>\n",
       "    </tr>\n",
       "    <tr>\n",
       "      <th>min</th>\n",
       "      <td>2.680001e+06</td>\n",
       "      <td>101.000000</td>\n",
       "      <td>2.680001e+09</td>\n",
       "      <td>26.0</td>\n",
       "      <td>1.000000</td>\n",
       "      <td>0.000000</td>\n",
       "      <td>-1.000000</td>\n",
       "      <td>0.000000</td>\n",
       "      <td>0.000000</td>\n",
       "      <td>0.000000</td>\n",
       "      <td>...</td>\n",
       "      <td>-1.000000</td>\n",
       "      <td>-1.000000</td>\n",
       "      <td>-1.000000</td>\n",
       "      <td>-1.000000</td>\n",
       "      <td>-1.000000</td>\n",
       "      <td>-1.000000</td>\n",
       "      <td>1.000000</td>\n",
       "      <td>2001.000000</td>\n",
       "      <td>2300.450793</td>\n",
       "      <td>0.000000</td>\n",
       "    </tr>\n",
       "    <tr>\n",
       "      <th>25%</th>\n",
       "      <td>2.682340e+06</td>\n",
       "      <td>101.000000</td>\n",
       "      <td>2.682340e+09</td>\n",
       "      <td>26.0</td>\n",
       "      <td>1.000000</td>\n",
       "      <td>0.000000</td>\n",
       "      <td>2022.000000</td>\n",
       "      <td>1.000000</td>\n",
       "      <td>0.000000</td>\n",
       "      <td>0.000000</td>\n",
       "      <td>...</td>\n",
       "      <td>0.000000</td>\n",
       "      <td>0.000000</td>\n",
       "      <td>0.000000</td>\n",
       "      <td>0.000000</td>\n",
       "      <td>0.000000</td>\n",
       "      <td>0.000000</td>\n",
       "      <td>1.000000</td>\n",
       "      <td>2025.000000</td>\n",
       "      <td>23336.049273</td>\n",
       "      <td>0.000000</td>\n",
       "    </tr>\n",
       "    <tr>\n",
       "      <th>50%</th>\n",
       "      <td>2.684729e+06</td>\n",
       "      <td>102.000000</td>\n",
       "      <td>2.684729e+09</td>\n",
       "      <td>26.0</td>\n",
       "      <td>1.000000</td>\n",
       "      <td>0.000000</td>\n",
       "      <td>2022.000000</td>\n",
       "      <td>1.000000</td>\n",
       "      <td>0.000000</td>\n",
       "      <td>0.000000</td>\n",
       "      <td>...</td>\n",
       "      <td>0.000000</td>\n",
       "      <td>0.000000</td>\n",
       "      <td>0.000000</td>\n",
       "      <td>0.000000</td>\n",
       "      <td>0.000000</td>\n",
       "      <td>0.000000</td>\n",
       "      <td>2.000000</td>\n",
       "      <td>2052.000000</td>\n",
       "      <td>38822.860849</td>\n",
       "      <td>14895.686119</td>\n",
       "    </tr>\n",
       "    <tr>\n",
       "      <th>75%</th>\n",
       "      <td>2.687099e+06</td>\n",
       "      <td>103.000000</td>\n",
       "      <td>2.687099e+09</td>\n",
       "      <td>26.0</td>\n",
       "      <td>1.000000</td>\n",
       "      <td>1.000000</td>\n",
       "      <td>2022.000000</td>\n",
       "      <td>1.000000</td>\n",
       "      <td>0.000000</td>\n",
       "      <td>0.000000</td>\n",
       "      <td>...</td>\n",
       "      <td>0.000000</td>\n",
       "      <td>0.000000</td>\n",
       "      <td>2.000000</td>\n",
       "      <td>0.000000</td>\n",
       "      <td>0.000000</td>\n",
       "      <td>0.000000</td>\n",
       "      <td>3.000000</td>\n",
       "      <td>2084.000000</td>\n",
       "      <td>64372.684108</td>\n",
       "      <td>54873.558433</td>\n",
       "    </tr>\n",
       "    <tr>\n",
       "      <th>max</th>\n",
       "      <td>2.689506e+06</td>\n",
       "      <td>302.000000</td>\n",
       "      <td>2.689506e+09</td>\n",
       "      <td>26.0</td>\n",
       "      <td>3.000000</td>\n",
       "      <td>1.000000</td>\n",
       "      <td>2022.000000</td>\n",
       "      <td>1.000000</td>\n",
       "      <td>1.000000</td>\n",
       "      <td>1.000000</td>\n",
       "      <td>...</td>\n",
       "      <td>86.000000</td>\n",
       "      <td>35.000000</td>\n",
       "      <td>629851.000000</td>\n",
       "      <td>648313.000000</td>\n",
       "      <td>95476.000000</td>\n",
       "      <td>37826.000000</td>\n",
       "      <td>8.000000</td>\n",
       "      <td>2117.000000</td>\n",
       "      <td>367953.505563</td>\n",
       "      <td>540104.304709</td>\n",
       "    </tr>\n",
       "  </tbody>\n",
       "</table>\n",
       "<p>8 rows × 2717 columns</p>\n",
       "</div>"
      ],
      "text/plain": [
       "               DUID          PID      DUPERSID   PANEL      YEARIND  \\\n",
       "count  6.741000e+03  6741.000000  6.741000e+03  6741.0  6741.000000   \n",
       "mean   2.684728e+06   102.202641  2.684728e+09    26.0     1.031894   \n",
       "std    2.747554e+03     4.733321  2.747554e+06     0.0     0.215891   \n",
       "min    2.680001e+06   101.000000  2.680001e+09    26.0     1.000000   \n",
       "25%    2.682340e+06   101.000000  2.682340e+09    26.0     1.000000   \n",
       "50%    2.684729e+06   102.000000  2.684729e+09    26.0     1.000000   \n",
       "75%    2.687099e+06   103.000000  2.687099e+09    26.0     1.000000   \n",
       "max    2.689506e+06   302.000000  2.689506e+09    26.0     3.000000   \n",
       "\n",
       "          SAQRDS24   DATAYEARY2      ALL5RDS         DIED         INST  ...  \\\n",
       "count  6741.000000  6741.000000  6741.000000  6741.000000  6741.000000  ...   \n",
       "mean      0.475597  1989.288681     0.933838     0.022994     0.003115  ...   \n",
       "std       0.499441   255.175679     0.248584     0.149894     0.055732  ...   \n",
       "min       0.000000    -1.000000     0.000000     0.000000     0.000000  ...   \n",
       "25%       0.000000  2022.000000     1.000000     0.000000     0.000000  ...   \n",
       "50%       0.000000  2022.000000     1.000000     0.000000     0.000000  ...   \n",
       "75%       1.000000  2022.000000     1.000000     0.000000     0.000000  ...   \n",
       "max       1.000000  2022.000000     1.000000     1.000000     1.000000  ...   \n",
       "\n",
       "           RXOSRY1      RXOSRY2        RXPTRY1        RXPTRY2       RXOTHY1  \\\n",
       "count  6741.000000  6741.000000    6741.000000    6741.000000   6741.000000   \n",
       "mean      0.005785    -0.008901     621.863967     681.911141     28.282451   \n",
       "std       1.053803     0.462137    9181.818331    9068.790446   1214.393300   \n",
       "min      -1.000000    -1.000000      -1.000000      -1.000000     -1.000000   \n",
       "25%       0.000000     0.000000       0.000000       0.000000      0.000000   \n",
       "50%       0.000000     0.000000       0.000000       0.000000      0.000000   \n",
       "75%       0.000000     0.000000       2.000000       0.000000      0.000000   \n",
       "max      86.000000    35.000000  629851.000000  648313.000000  95476.000000   \n",
       "\n",
       "            RXOTHY2       VARPSU       VARSTR         LONGWT         LSAQWT  \n",
       "count   6741.000000  6741.000000  6741.000000    6741.000000    6741.000000  \n",
       "mean      28.422341     2.366118  2055.126984   49996.038645   38241.105807  \n",
       "std      609.037490     1.343543    33.910594   40390.008691   59407.014502  \n",
       "min       -1.000000     1.000000  2001.000000    2300.450793       0.000000  \n",
       "25%        0.000000     1.000000  2025.000000   23336.049273       0.000000  \n",
       "50%        0.000000     2.000000  2052.000000   38822.860849   14895.686119  \n",
       "75%        0.000000     3.000000  2084.000000   64372.684108   54873.558433  \n",
       "max    37826.000000     8.000000  2117.000000  367953.505563  540104.304709  \n",
       "\n",
       "[8 rows x 2717 columns]"
      ]
     },
     "execution_count": 24,
     "metadata": {},
     "output_type": "execute_result"
    }
   ],
   "source": [
    "data.describe()"
   ]
  },
  {
   "cell_type": "code",
   "execution_count": 4,
   "id": "610d59d1",
   "metadata": {},
   "outputs": [
    {
     "data": {
      "text/plain": [
       "DIABDXY1_M18  DIABDXY2_M18\n",
       " 2             2              5849\n",
       " 1             1               729\n",
       " 2            -1                61\n",
       "-1            -1                47\n",
       "               2                36\n",
       " 1            -1                16\n",
       "-8            -8                 1\n",
       "              -1                 1\n",
       "-1            -8                 1\n",
       "Name: count, dtype: int64"
      ]
     },
     "execution_count": 4,
     "metadata": {},
     "output_type": "execute_result"
    }
   ],
   "source": [
    "data[[\"DIABDXY1_M18\", \"DIABDXY2_M18\"]].value_counts()"
   ]
  },
  {
   "cell_type": "code",
   "execution_count": 36,
   "id": "701be03c",
   "metadata": {},
   "outputs": [
    {
     "data": {
      "text/plain": [
       "ADSEX4\n",
       "-1        3070\n",
       " 2        1917\n",
       " 1        1582\n",
       "-15        172\n",
       "Name: count, dtype: int64"
      ]
     },
     "execution_count": 36,
     "metadata": {},
     "output_type": "execute_result"
    }
   ],
   "source": [
    "data[[\"ADSEX4\"]].value_counts()"
   ]
  },
  {
   "cell_type": "code",
   "execution_count": 16,
   "id": "61060dba",
   "metadata": {},
   "outputs": [
    {
     "name": "stderr",
     "output_type": "stream",
     "text": [
      "/tmp/ipykernel_2088/3627444273.py:3: SettingWithCopyWarning: \n",
      "A value is trying to be set on a copy of a slice from a DataFrame.\n",
      "Try using .loc[row_indexer,col_indexer] = value instead\n",
      "\n",
      "See the caveats in the documentation: https://pandas.pydata.org/pandas-docs/stable/user_guide/indexing.html#returning-a-view-versus-a-copy\n",
      "  data_plot1[data_plot1['DIABAGY1'] < 0] = np.nan\n",
      "/tmp/ipykernel_2088/3627444273.py:4: SettingWithCopyWarning: \n",
      "A value is trying to be set on a copy of a slice from a DataFrame.\n",
      "Try using .loc[row_indexer,col_indexer] = value instead\n",
      "\n",
      "See the caveats in the documentation: https://pandas.pydata.org/pandas-docs/stable/user_guide/indexing.html#returning-a-view-versus-a-copy\n",
      "  data_plot1[data_plot1['DIABAGY2'] < 0] = np.nan\n"
     ]
    },
    {
     "data": {
      "text/plain": [
       "array([[<Axes: title={'center': 'DIABAGY1'}>,\n",
       "        <Axes: title={'center': 'DIABAGY2'}>]], dtype=object)"
      ]
     },
     "execution_count": 16,
     "metadata": {},
     "output_type": "execute_result"
    },
    {
     "data": {
      "image/png": "[encoded data removed]",
      "text/plain": [
       "<Figure size 640x480 with 2 Axes>"
      ]
     },
     "metadata": {},
     "output_type": "display_data"
    }
   ],
   "source": [
    "#Age at diabetes diagnosis\n",
    "data_plot1 = data[['DIABAGY1', 'DIABAGY2']]\n",
    "data_plot1[data_plot1['DIABAGY1'] < 0] = np.nan\n",
    "data_plot1[data_plot1['DIABAGY2'] < 0] = np.nan\n",
    "data_plot1.hist()"
   ]
  },
  {
   "cell_type": "code",
   "execution_count": 7,
   "id": "9e46b2c2",
   "metadata": {},
   "outputs": [
    {
     "name": "stderr",
     "output_type": "stream",
     "text": [
      "/tmp/ipykernel_2088/2916269681.py:3: SettingWithCopyWarning: \n",
      "A value is trying to be set on a copy of a slice from a DataFrame.\n",
      "Try using .loc[row_indexer,col_indexer] = value instead\n",
      "\n",
      "See the caveats in the documentation: https://pandas.pydata.org/pandas-docs/stable/user_guide/indexing.html#returning-a-view-versus-a-copy\n",
      "  data_plot2[data_plot2['DIABAGY1'] < 0] = np.nan\n",
      "/tmp/ipykernel_2088/2916269681.py:4: SettingWithCopyWarning: \n",
      "A value is trying to be set on a copy of a slice from a DataFrame.\n",
      "Try using .loc[row_indexer,col_indexer] = value instead\n",
      "\n",
      "See the caveats in the documentation: https://pandas.pydata.org/pandas-docs/stable/user_guide/indexing.html#returning-a-view-versus-a-copy\n",
      "  data_plot2[data_plot2['ADSEX4'] < 0] = np.nan\n"
     ]
    },
    {
     "data": {
      "text/plain": [
       "<seaborn.axisgrid.FacetGrid at 0x74277991fd40>"
      ]
     },
     "execution_count": 7,
     "metadata": {},
     "output_type": "execute_result"
    },
    {
     "data": {
      "image/png": "[encoded data removed]",
      "text/plain": [
       "<Figure size 600x300 with 2 Axes>"
      ]
     },
     "metadata": {},
     "output_type": "display_data"
    }
   ],
   "source": [
    "#age at diabetes diagnosis by gender\n",
    "data_plot2 = data[['DIABAGY1', 'ADSEX4']]\n",
    "data_plot2[data_plot2['DIABAGY1'] < 0] = np.nan\n",
    "data_plot2[data_plot2['ADSEX4'] < 0] = np.nan\n",
    "\n",
    "import seaborn as sns\n",
    "g = sns.FacetGrid(data_plot2, col=\"ADSEX4\")\n",
    "g.map(sns.histplot, \"DIABAGY1\")\n",
    "\n",
    "#The average age of diabetes diagnosis was similar between male and female. "
   ]
  },
  {
   "cell_type": "code",
   "execution_count": null,
   "id": "ed12d0e8",
   "metadata": {},
   "outputs": [
    {
     "data": {
      "text/plain": [
       "<Axes: xlabel='PRVEVY1', ylabel='count'>"
      ]
     },
     "execution_count": 9,
     "metadata": {},
     "output_type": "execute_result"
    },
    {
     "data": {
      "image/png": "[encoded data removed]",
      "text/plain": [
       "<Figure size 640x480 with 1 Axes>"
      ]
     },
     "metadata": {},
     "output_type": "display_data"
    }
   ],
   "source": [
    "#have prvate insurabce among patients with diabetes diagnosis\n",
    "data_plot3 = data[['PRVEVY1', 'DIABDXY1_M18']]\n",
    "data_plot3 = data_plot3[data_plot3['DIABDXY1_M18']==1]\n",
    "\n",
    "sns.countplot(x=\"PRVEVY1\", data=data_plot3)"
   ]
  },
  {
   "cell_type": "code",
   "execution_count": 14,
   "id": "26d0e096",
   "metadata": {},
   "outputs": [
    {
     "data": {
      "text/plain": [
       "DIABAGY1        50.0\n",
       "TOTTCHY1         0.0\n",
       "TOTTCHY2         0.0\n",
       "DIABDXY1_M18     1.0\n",
       "Name: 0, dtype: float64"
      ]
     },
     "execution_count": 14,
     "metadata": {},
     "output_type": "execute_result"
    }
   ],
   "source": [
    "data_plot4 = data[['DIABAGY1', 'TOTTCHY1', 'TOTTCHY2', 'DIABDXY1_M18']]\n",
    "data_plot4 = data_plot4[data_plot4['DIABDXY1_M18']==1]\n",
    "data_plot4[data_plot4['DIABAGY1'] < 0] = np.nan\n",
    " \n",
    "data_plot4.mode(numeric_only=True).iloc[0]"
   ]
  },
  {
   "cell_type": "code",
   "execution_count": null,
   "id": "f07d8ac5",
   "metadata": {},
   "outputs": [
    {
     "data": {
      "text/html": [
       "<div>\n",
       "<style scoped>\n",
       "    .dataframe tbody tr th:only-of-type {\n",
       "        vertical-align: middle;\n",
       "    }\n",
       "\n",
       "    .dataframe tbody tr th {\n",
       "        vertical-align: top;\n",
       "    }\n",
       "\n",
       "    .dataframe thead th {\n",
       "        text-align: right;\n",
       "    }\n",
       "</style>\n",
       "<table border=\"1\" class=\"dataframe\">\n",
       "  <thead>\n",
       "    <tr style=\"text-align: right;\">\n",
       "      <th></th>\n",
       "      <th>DIABAGY1</th>\n",
       "      <th>TOTTCHY1</th>\n",
       "      <th>TOTTCHY2</th>\n",
       "      <th>DIABDXY1_M18</th>\n",
       "    </tr>\n",
       "  </thead>\n",
       "  <tbody>\n",
       "    <tr>\n",
       "      <th>count</th>\n",
       "      <td>713.000000</td>\n",
       "      <td>713.000000</td>\n",
       "      <td>7.130000e+02</td>\n",
       "      <td>713.0</td>\n",
       "    </tr>\n",
       "    <tr>\n",
       "      <th>mean</th>\n",
       "      <td>50.230014</td>\n",
       "      <td>37252.039271</td>\n",
       "      <td>4.330012e+04</td>\n",
       "      <td>1.0</td>\n",
       "    </tr>\n",
       "    <tr>\n",
       "      <th>std</th>\n",
       "      <td>15.378113</td>\n",
       "      <td>85312.693456</td>\n",
       "      <td>1.079485e+05</td>\n",
       "      <td>0.0</td>\n",
       "    </tr>\n",
       "    <tr>\n",
       "      <th>min</th>\n",
       "      <td>0.000000</td>\n",
       "      <td>0.000000</td>\n",
       "      <td>-1.000000e+00</td>\n",
       "      <td>1.0</td>\n",
       "    </tr>\n",
       "    <tr>\n",
       "      <th>25%</th>\n",
       "      <td>40.000000</td>\n",
       "      <td>2148.000000</td>\n",
       "      <td>2.080000e+03</td>\n",
       "      <td>1.0</td>\n",
       "    </tr>\n",
       "    <tr>\n",
       "      <th>50%</th>\n",
       "      <td>51.000000</td>\n",
       "      <td>8463.000000</td>\n",
       "      <td>8.551000e+03</td>\n",
       "      <td>1.0</td>\n",
       "    </tr>\n",
       "    <tr>\n",
       "      <th>75%</th>\n",
       "      <td>61.000000</td>\n",
       "      <td>27752.000000</td>\n",
       "      <td>3.868500e+04</td>\n",
       "      <td>1.0</td>\n",
       "    </tr>\n",
       "    <tr>\n",
       "      <th>max</th>\n",
       "      <td>85.000000</td>\n",
       "      <td>930933.000000</td>\n",
       "      <td>1.304094e+06</td>\n",
       "      <td>1.0</td>\n",
       "    </tr>\n",
       "  </tbody>\n",
       "</table>\n",
       "</div>"
      ],
      "text/plain": [
       "         DIABAGY1       TOTTCHY1      TOTTCHY2  DIABDXY1_M18\n",
       "count  713.000000     713.000000  7.130000e+02         713.0\n",
       "mean    50.230014   37252.039271  4.330012e+04           1.0\n",
       "std     15.378113   85312.693456  1.079485e+05           0.0\n",
       "min      0.000000       0.000000 -1.000000e+00           1.0\n",
       "25%     40.000000    2148.000000  2.080000e+03           1.0\n",
       "50%     51.000000    8463.000000  8.551000e+03           1.0\n",
       "75%     61.000000   27752.000000  3.868500e+04           1.0\n",
       "max     85.000000  930933.000000  1.304094e+06           1.0"
      ]
     },
     "execution_count": 15,
     "metadata": {},
     "output_type": "execute_result"
    }
   ],
   "source": [
    "data_plot4.describe()\n",
    "#The means, medians, and modes for age at diabetes diagnosis are 50.2, 51.0, and 50.0;\n",
    "#The means, medians, and modes for total medical charges in 2021 are 37253, 8463, and 0;\n",
    "#The means, medians, and modes for total medical charges in 2022 are 43300, 8551, and 0."
   ]
  },
  {
   "cell_type": "code",
   "execution_count": null,
   "id": "018ee3af",
   "metadata": {},
   "outputs": [],
   "source": [
    "#conclusions:\n",
    "#The age at diabetes diagnosis distribution is normally distrbuted\n",
    "\n",
    "#No outliers were observed. \n",
    "\n",
    "#The distributions of age at diabetes diagnosis are similar between male and female. \n",
    "\n",
    "# The minimum and maximum values of age at diabetes diagnosis are 0 and 82 for male and 0 and 85 for female. \n",
    "\n",
    "# Changing the bin width will reveal different patterns in the data."
   ]
  },
  {
   "cell_type": "markdown",
   "id": "a3f1934f-7ef3-4cbb-84bd-b27d93ba95d2",
   "metadata": {},
   "source": [
    "# 4. Storytelling With Data graph"
   ]
  },
  {
   "cell_type": "markdown",
   "id": "91ba396b-fc00-48ec-acc6-e026348536f6",
   "metadata": {},
   "source": [
    "Reproduce any graph of your choice in p. 52-68 of the Storytelling With Data book as best you can.  (The second half of chapter two).  You do not have to get the exact data values right, just the overall look and feel."
   ]
  },
  {
   "cell_type": "code",
   "execution_count": 20,
   "id": "5a7e4b4b-977a-4b0e-bec2-1f34a514da44",
   "metadata": {},
   "outputs": [
    {
     "data": {
      "text/plain": [
       "<BarContainer object of 5 artists>"
      ]
     },
     "execution_count": 20,
     "metadata": {},
     "output_type": "execute_result"
    },
    {
     "data": {
      "image/png": "[encoded data removed]",
      "text/plain": [
       "<Figure size 640x480 with 1 Axes>"
      ]
     },
     "metadata": {},
     "output_type": "display_data"
    }
   ],
   "source": [
    "import matplotlib.pyplot as plt\n",
    "#look at race with horizontal bar chart\n",
    "race_counts = data[\"RACEV1X\"].value_counts().reset_index()\n",
    "race_counts.columns = [\"Race\", \"Count\"]\n",
    "plt.barh(race_counts[\"Race\"], race_counts[\"Count\"], color=\"skyblue\")"
   ]
  }
 ],
 "metadata": {
  "kernelspec": {
   "display_name": "Python 3",
   "language": "python",
   "name": "python3"
  },
  "language_info": {
   "codemirror_mode": {
    "name": "ipython",
    "version": 3
   },
   "file_extension": ".py",
   "mimetype": "text/x-python",
   "name": "python",
   "nbconvert_exporter": "python",
   "pygments_lexer": "ipython3",
   "version": "3.12.1"
  }
 },
 "nbformat": 4,
 "nbformat_minor": 5
}
